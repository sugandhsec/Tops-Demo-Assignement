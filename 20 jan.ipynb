{
 "cells": [
  {
   "cell_type": "code",
   "execution_count": null,
   "id": "550f5a6b",
   "metadata": {},
   "outputs": [],
   "source": [
    "# bitwise operator\n",
    "bitwise &\n",
    "bitwise |\n",
    "bitwise right shift >>\n",
    "bitwise left shift <<"
   ]
  },
  {
   "cell_type": "code",
   "execution_count": 1,
   "id": "6c31e81a",
   "metadata": {},
   "outputs": [
    {
     "name": "stdout",
     "output_type": "stream",
     "text": [
      "1\n",
      "127\n"
     ]
    }
   ],
   "source": [
    "print(85&43)\n",
    "print(85|43)"
   ]
  },
  {
   "cell_type": "code",
   "execution_count": 4,
   "id": "9393a917",
   "metadata": {},
   "outputs": [
    {
     "name": "stdout",
     "output_type": "stream",
     "text": [
      "16\n",
      "127\n",
      "640\n",
      "10\n"
     ]
    }
   ],
   "source": [
    "print(95&48)\n",
    "print(95|48)\n",
    "print(80<<3)\n",
    "print(80>>3)"
   ]
  },
  {
   "cell_type": "code",
   "execution_count": null,
   "id": "9883dfe3",
   "metadata": {},
   "outputs": [],
   "source": [
    "# conditional statements\n",
    "\n",
    "# if\n",
    "# if else\n",
    "# if...elif..elif...else(Ladder if else)\n",
    "#nested if else"
   ]
  },
  {
   "cell_type": "code",
   "execution_count": null,
   "id": "72e05ed0",
   "metadata": {},
   "outputs": [],
   "source": [
    "# if\n",
    "# if consdition:\n",
    "#     task\n",
    "#     fgrt\n",
    "#     rth\n",
    "#     rth\n",
    "#     rth\n",
    "#     h\n",
    "# else:\n",
    "#     dsfsdf\n",
    "#     df\n",
    "#     sd\n",
    "#     fsd\n",
    "#     f\n",
    "\n",
    "    "
   ]
  },
  {
   "cell_type": "code",
   "execution_count": null,
   "id": "9507e871",
   "metadata": {},
   "outputs": [],
   "source": [
    "age=int(input(\"Enter Your Age: \"))\n",
    "if(age>60):\n",
    "    print(\"you are senior citizen\")"
   ]
  },
  {
   "cell_type": "code",
   "execution_count": 16,
   "id": "bd79fba5",
   "metadata": {},
   "outputs": [
    {
     "name": "stdout",
     "output_type": "stream",
     "text": [
      "Enter Your Age: 48\n",
      "you are not senior citizen\n"
     ]
    }
   ],
   "source": [
    "age=int(input(\"Enter Your Age: \"))\n",
    "if(age>60):\n",
    "    print(\"you are senior citizen\")\n",
    "else:\n",
    "    print(\"you are not senior citizen\")"
   ]
  },
  {
   "cell_type": "code",
   "execution_count": null,
   "id": "0cb27315",
   "metadata": {},
   "outputs": [],
   "source": [
    "# # ladder if else\n",
    "# if condition1:\n",
    "#     sjkff\n",
    "#     sf\n",
    "#     sf\n",
    "# elif condition2:\n",
    "#     ferfgerg\n",
    "#     ge\n",
    "#     rge\n",
    "#     g\n",
    "# elif condition:\n",
    "    \n",
    "#     grt\n",
    "#     grt\n",
    "#     grt\n",
    "    \n",
    "# else:\n",
    "#     rgerge\n",
    "#     rge\n",
    "#     rer\n",
    "#     g\n",
    "#     er\n",
    "#     ge\n",
    "# gerger\n",
    "# ge\n",
    "# ge\n",
    "# g"
   ]
  },
  {
   "cell_type": "code",
   "execution_count": 13,
   "id": "6f86e7d6",
   "metadata": {},
   "outputs": [
    {
     "name": "stdout",
     "output_type": "stream",
     "text": [
      "Enter Your Age: 4\n",
      "You are not adult\n"
     ]
    }
   ],
   "source": [
    "age=int(input(\"Enter Your Age: \"))\n",
    "if(age>60 and age<150):\n",
    "    print(\"you are senior citizen\")\n",
    "elif(age<18 and age>0):\n",
    "    print(\"You are not adult\")\n",
    "elif(age>=18 and age<=60):\n",
    "    print(\"You are Young\")\n",
    "else:\n",
    "    print(\"you are not senior citizen\")\n",
    "    \n"
   ]
  },
  {
   "cell_type": "code",
   "execution_count": 15,
   "id": "351e803c",
   "metadata": {},
   "outputs": [
    {
     "name": "stdout",
     "output_type": "stream",
     "text": [
      "Enter number148\n",
      "Enter number296\n",
      "Enter number325\n",
      "96 is larger\n"
     ]
    }
   ],
   "source": [
    "n1=int(input(\"Enter number1: \"))\n",
    "n2=int(input(\"Enter number2: \"))\n",
    "n3=int(input(\"Enter number3: \"))\n",
    "if(n1>n2):\n",
    "    if(n1>n3):\n",
    "        print(f\"{n1} is larger\")\n",
    "    else:\n",
    "        print(f\"{n3} is larger\")\n",
    "else:\n",
    "    if(n2>n3):\n",
    "        print(f\"{n2} is larger\")\n",
    "    else:\n",
    "        print(f\"{n3} is larger\")"
   ]
  },
  {
   "cell_type": "markdown",
   "id": "6aec7890",
   "metadata": {},
   "source": [
    "marksheet Program\n",
    "\n",
    "\n",
    "username\n",
    "Roll no\n",
    "\n",
    "Enter Marks OF 5 subjects\n",
    "\n",
    "total\n",
    "percentage\n",
    "\n",
    "\n",
    "based on percentage we have to give him grade\n",
    "\n",
    "check also if he/she is pass or fail depending on grade percentage and marks"
   ]
  },
  {
   "cell_type": "code",
   "execution_count": null,
   "id": "5e18320e",
   "metadata": {},
   "outputs": [],
   "source": []
  }
 ],
 "metadata": {
  "kernelspec": {
   "display_name": "Python 3 (ipykernel)",
   "language": "python",
   "name": "python3"
  },
  "language_info": {
   "codemirror_mode": {
    "name": "ipython",
    "version": 3
   },
   "file_extension": ".py",
   "mimetype": "text/x-python",
   "name": "python",
   "nbconvert_exporter": "python",
   "pygments_lexer": "ipython3",
   "version": "3.9.12"
  }
 },
 "nbformat": 4,
 "nbformat_minor": 5
}
