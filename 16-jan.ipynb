{
 "cells": [
  {
   "cell_type": "code",
   "execution_count": 3,
   "id": "a8665181",
   "metadata": {},
   "outputs": [],
   "source": [
    "# print(\"Hello World)\n",
    "# '''\n",
    "# wedwefwfwe\n",
    "# fwe\n",
    "# fwe\n",
    "# f\n",
    "# '''"
   ]
  },
  {
   "cell_type": "code",
   "execution_count": 20,
   "id": "34ea154f",
   "metadata": {},
   "outputs": [
    {
     "name": "stdout",
     "output_type": "stream",
     "text": [
      "ball \"bat\" cricket\n",
      "dwec jkvbdv\n",
      "I'm learning python\n",
      "wow\b\b\n",
      "klfjhwsn\n",
      "fhsgfhgfhkod\n",
      "jhferkogherg'ergeg'gegerg'gergerg\n",
      "fhfef\"wfweef\"wefwefwe\"WEfw\n",
      "hello\tworld\n",
      "2\\10\n"
     ]
    }
   ],
   "source": [
    "print(\"ball \\\"bat\\\" cricket\")\n",
    "# I'm learning python\n",
    "print('dwec jkvbdv')\n",
    "print('I\\'m learning python')\n",
    "print(\"wow\\b\\b\")\n",
    "print(\"klfjhwsn\\nfhsgfhgfhkod\")\n",
    "print(\"jhferkogherg'ergeg'gegerg'gergerg\")\n",
    "print('fhfef\"wfweef\"wefwefwe\"WEfw')\n",
    "print(\"hello\\tworld\")\n",
    "# 2\\10\n",
    "print(\"2\\\\10\")"
   ]
  },
  {
   "cell_type": "markdown",
   "id": "c0bd7669",
   "metadata": {},
   "source": [
    "\\b --backsapce one character remove\n",
    "\\n --newline caharacter  \n",
    "\\\" ---double quote\n",
    "\\'  --single quote\n",
    "t   --tab sapce\n",
    "\\  --backslash"
   ]
  },
  {
   "cell_type": "code",
   "execution_count": 6,
   "id": "ab21d1bd",
   "metadata": {},
   "outputs": [
    {
     "name": "stdout",
     "output_type": "stream",
     "text": [
      "fkjebfje vbervb*****wehfweg hcwecweh///whfjwfwf hvwjh\n"
     ]
    }
   ],
   "source": [
    "# end=\"string\"\n",
    "print(\"fkjebfje vbervb\",end=\"*****\")\n",
    "print(\"wehfweg hcwecweh\",end=\"///\")\n",
    "print(\"whfjwfwf hvwjh\")"
   ]
  },
  {
   "cell_type": "code",
   "execution_count": null,
   "id": "8070e350",
   "metadata": {},
   "outputs": [],
   "source": [
    "# Variables\n",
    "# tightly type language  C,C++,java,javascript\n",
    "# loosely type language   python,php\n",
    "\n",
    "# int a=50;\n",
    "# a=50\n",
    "\n",
    "# age=65\n",
    "# variable naming rules\n",
    "# identifier rule\n",
    "# 1)first character of name shoulb be either aplhpabet(a-z A-Z) or \n",
    "# either underscore(_)\n",
    "# 2)remaining characters of name shoud be aplhpabet(a-z A-Z) or \n",
    "# either underscore(_) as well as digits(0-9)\n",
    "# 3)space cannot be used as a part of name chasracters use underscore in place of \n",
    "# space\n",
    "\n",
    "\n",
    "\n"
   ]
  },
  {
   "cell_type": "code",
   "execution_count": null,
   "id": "449f301f",
   "metadata": {},
   "outputs": [],
   "source": [
    "# datatype of variable\n",
    "int\n",
    "float\n",
    "string\n",
    "boolean\n",
    "\n",
    "list []\n",
    "tuple ()\n",
    "set  {}\n",
    "dictionary {key:value}\n",
    "\n"
   ]
  },
  {
   "cell_type": "code",
   "execution_count": 13,
   "id": "90e8c701",
   "metadata": {},
   "outputs": [
    {
     "name": "stdout",
     "output_type": "stream",
     "text": [
      "<class 'bool'>\n"
     ]
    }
   ],
   "source": [
    "# a=\"True\" ---string\n",
    "a=True\n",
    "b=False\n",
    "c=\"jkfhb jhv\"\n",
    "\n",
    "# type() --- helps to check the datatype of variable\n",
    "\n",
    "print(type(b))"
   ]
  },
  {
   "cell_type": "code",
   "execution_count": 34,
   "id": "0a92951a",
   "metadata": {},
   "outputs": [
    {
     "name": "stdout",
     "output_type": "stream",
     "text": [
      "Enter Something: 78954\n",
      "<class 'float'>\n"
     ]
    }
   ],
   "source": [
    "# user input \n",
    "# input()\n",
    "# a=int(input(\"Enter Something: \"))\n",
    "a=float(input(\"Enter Something: \"))\n",
    "\n",
    "print(type(a))\n",
    "# input function take value in string datatype by default\n",
    "# if we have to take value in other datatype then we have to convert it into \n",
    "# desired datatype\n",
    "\n",
    "# datatype(value)"
   ]
  },
  {
   "cell_type": "code",
   "execution_count": 37,
   "id": "c7bce5c9",
   "metadata": {},
   "outputs": [
    {
     "name": "stdout",
     "output_type": "stream",
     "text": [
      "Enter Your age: 48\n",
      "Your48 age is 48 48 string is ===jksdhfjkf\n"
     ]
    }
   ],
   "source": [
    "a=int(input(\"Enter Your age: \"))\n",
    "b=\"jksdhfjkf\"\n",
    "# f--means formatted string\n",
    "print(f\"Your{a} age is {a} {a} string is ==={b}\")"
   ]
  },
  {
   "cell_type": "code",
   "execution_count": null,
   "id": "8bb02e99",
   "metadata": {},
   "outputs": [],
   "source": [
    "# operators\n",
    "# variable ki value\n",
    "# direct values\n",
    "\n",
    "# 80+90\n",
    "# a+b\n",
    "\n",
    "# 80 90 a b  --operands\n",
    "# + operators"
   ]
  },
  {
   "cell_type": "code",
   "execution_count": null,
   "id": "ce34bba3",
   "metadata": {},
   "outputs": [],
   "source": [
    "# opeartors\n",
    "\n",
    "# arithmetic operators + - * / % // **\n",
    "# comparison or conditional or relational operator > < >= <= == !=\n",
    "# assignement operators = += -= *= /= %=\n",
    "# increment/decrement operator ++ --\n",
    "# logical operator And(&&) OR(||) Not(!)\n",
    "# bitwise operator >> << & | ^\n",
    "# identity operator is    is not\n",
    "# membership operator in   not in\n",
    "\n"
   ]
  },
  {
   "cell_type": "code",
   "execution_count": 56,
   "id": "aba20ce3",
   "metadata": {},
   "outputs": [
    {
     "name": "stdout",
     "output_type": "stream",
     "text": [
      "Enter Some1: 6\n",
      "Enter Some2: 3\n",
      "216\n"
     ]
    }
   ],
   "source": [
    "# Arithmetic Operator\n",
    "# print(80+50)\n",
    "# print(80-96)\n",
    "# + addition\n",
    "# -  subtraction\n",
    "# / division\n",
    "# * multiplication\n",
    "# % modulus means remainder \n",
    "# // floor division means answer without point or decimal\n",
    "# ** power operator\n",
    "a=int(input(\"Enter Some1: \"))\n",
    "b=int(input(\"Enter Some2: \"))\n",
    "print(a**b)"
   ]
  },
  {
   "cell_type": "code",
   "execution_count": 68,
   "id": "c9df9809",
   "metadata": {},
   "outputs": [
    {
     "name": "stdout",
     "output_type": "stream",
     "text": [
      "Enter Some1: Apple\n",
      "Enter Some2: Aplle\n",
      "True\n"
     ]
    }
   ],
   "source": [
    "# comparison operator \n",
    "# Answer of Comparison Operator is of boolean datatype means True Or False\n",
    ">\n",
    "<\n",
    ">=\n",
    "<=\n",
    "==\n",
    "!=\n",
    "a=(input(\"Enter Some1: \"))\n",
    "b=(input(\"Enter Some2: \"))\n",
    "print(a>b)\n",
    "# comparison of string in python is done on the basis of ASCII value one by\n",
    "# one till it reaches to the final result"
   ]
  },
  {
   "cell_type": "code",
   "execution_count": 71,
   "id": "126d6b3b",
   "metadata": {},
   "outputs": [
    {
     "name": "stdout",
     "output_type": "stream",
     "text": [
      "1.0\n"
     ]
    }
   ],
   "source": [
    "# a=55\n",
    "# # = is assignement operator \n",
    "# a=a+5 #long hand notation\n",
    "# a+=5  #short hand notation\n",
    "\n",
    "# a*=10\n",
    "# a=a*10\n",
    "c=10\n",
    "# c=c+5\n",
    "c/=10\n",
    "print(c)\n"
   ]
  },
  {
   "cell_type": "code",
   "execution_count": 84,
   "id": "09aca42e",
   "metadata": {},
   "outputs": [
    {
     "name": "stdout",
     "output_type": "stream",
     "text": [
      "False\n"
     ]
    }
   ],
   "source": [
    "# 5>10\n",
    "# &&\n",
    "# 6<15\n",
    "# &&\n",
    "# 8>85\n",
    "\n",
    "# Logical Operator\n",
    "# AND(and) It will return True If all the conditions are True otherwise False\n",
    "# OR(or)  It will true if any one condition is true if all the condition is\n",
    "# false then it will return false\n",
    "# NOT(not) i will oppose the answer make true to false and false to true\n",
    "\n",
    "# print((65>89) or (48<=48))\n",
    "# print(not(65>48))\n"
   ]
  }
 ],
 "metadata": {
  "kernelspec": {
   "display_name": "Python 3 (ipykernel)",
   "language": "python",
   "name": "python3"
  },
  "language_info": {
   "codemirror_mode": {
    "name": "ipython",
    "version": 3
   },
   "file_extension": ".py",
   "mimetype": "text/x-python",
   "name": "python",
   "nbconvert_exporter": "python",
   "pygments_lexer": "ipython3",
   "version": "3.9.12"
  }
 },
 "nbformat": 4,
 "nbformat_minor": 5
}
